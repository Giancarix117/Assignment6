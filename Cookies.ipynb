{
  "nbformat": 4,
  "nbformat_minor": 0,
  "metadata": {
    "colab": {
      "provenance": [],
      "include_colab_link": true
    },
    "kernelspec": {
      "name": "python3",
      "display_name": "Python 3"
    },
    "language_info": {
      "name": "python"
    }
  },
  "cells": [
    {
      "cell_type": "markdown",
      "metadata": {
        "id": "view-in-github",
        "colab_type": "text"
      },
      "source": [
        "<a href=\"https://colab.research.google.com/github/Giancarix117/Assignment6/blob/main/Cookies.ipynb\" target=\"_parent\"><img src=\"https://colab.research.google.com/assets/colab-badge.svg\" alt=\"Open In Colab\"/></a>"
      ]
    },
    {
      "cell_type": "markdown",
      "source": [
        "# **Probability & Statistics** - Graded Assignment\n",
        "*Submission deadline:  Sunday, January 29, 23:59 Barcelona time*\n",
        "\n",
        "You can ask me for feedback / advice up till January 27, 16:59 Barcelona time."
      ],
      "metadata": {
        "id": "Mz_SPeEWwB3Q"
      }
    },
    {
      "cell_type": "markdown",
      "source": [
        "## **Task 1 *(5 points)*** - Exploratory data analysis\n",
        "\n",
        "In this section, you will get to know the data you are working with.\n",
        "\n",
        "First, describe the dataset in a couple of sentences. Mention what it's about, which information is available in it, etc."
      ],
      "metadata": {
        "id": "0ae9Mk7dOp7-"
      }
    },
    {
      "cell_type": "markdown",
      "source": [
        "\n",
        "\n",
        "\n",
        "\n",
        "\n",
        "This dataset includes the results from an A/B test examining the effects of moving the first gate in the game Cookie Cats from level 30 to level 40. It contains data from 90,189 players who were randomly assigned to either the control group with a gate at level 30 or the group with a gate at level 40. The variables in the dataset include userid, version, sum_gamerounds, retention_1 and retention_7, which measure the number of game rounds played during the first 14 days after install and if the player returned one and seven days after install, respectively."
      ],
      "metadata": {
        "id": "N7uBvfnFPzkf"
      }
    },
    {
      "cell_type": "markdown",
      "source": [
        "Now, highlight at least three interesting things one can learn from the dataset. Make some plots, summary tables, etc., and always include an explanation of what you see in plain English. Make it a short data story that is interesting to read!\n",
        "\n",
        "You can use our *Titanic* and *Mammals* notebooks as an inspiration."
      ],
      "metadata": {
        "id": "0luwejcBP1uU"
      }
    },
    {
      "cell_type": "code",
      "source": [],
      "metadata": {
        "id": "Hj56Km7nQvjD",
        "colab": {
          "base_uri": "https://localhost:8080/"
        },
        "outputId": "9a153fd8-ca32-447d-a5cb-92ae15ac120e"
      },
      "execution_count": null,
      "outputs": [
        {
          "output_type": "stream",
          "name": "stdout",
          "text": [
            "116\n"
          ]
        }
      ]
    },
    {
      "cell_type": "code",
      "execution_count": 2,
      "metadata": {
        "id": "BkkoiwstOagR"
      },
      "outputs": [],
      "source": [
        "import numpy as np\n",
        "import pandas as pd\n",
        "\n",
        "import matplotlib.pyplot as plt\n",
        "import seaborn as sns"
      ]
    },
    {
      "cell_type": "code",
      "source": [
        "url=\"https://raw.githubusercontent.com/Giancarix117/Assignment6/main/cookie_cats.csv\"\n",
        "data = pd.read_csv(url)\n",
        "data.head()"
      ],
      "metadata": {
        "id": "IBhX3rm5ROKn",
        "colab": {
          "base_uri": "https://localhost:8080/",
          "height": 206
        },
        "outputId": "1352c4c3-858d-4009-baf9-488ab33c6381"
      },
      "execution_count": 3,
      "outputs": [
        {
          "output_type": "execute_result",
          "data": {
            "text/plain": [
              "   userid  version  sum_gamerounds  retention_1  retention_7\n",
              "0     116  gate_30               3        False        False\n",
              "1     337  gate_30              38         True        False\n",
              "2     377  gate_40             165         True        False\n",
              "3     483  gate_40               1        False        False\n",
              "4     488  gate_40             179         True         True"
            ],
            "text/html": [
              "\n",
              "  <div id=\"df-8545270c-a4ba-46a6-bf7a-0c9770eca942\">\n",
              "    <div class=\"colab-df-container\">\n",
              "      <div>\n",
              "<style scoped>\n",
              "    .dataframe tbody tr th:only-of-type {\n",
              "        vertical-align: middle;\n",
              "    }\n",
              "\n",
              "    .dataframe tbody tr th {\n",
              "        vertical-align: top;\n",
              "    }\n",
              "\n",
              "    .dataframe thead th {\n",
              "        text-align: right;\n",
              "    }\n",
              "</style>\n",
              "<table border=\"1\" class=\"dataframe\">\n",
              "  <thead>\n",
              "    <tr style=\"text-align: right;\">\n",
              "      <th></th>\n",
              "      <th>userid</th>\n",
              "      <th>version</th>\n",
              "      <th>sum_gamerounds</th>\n",
              "      <th>retention_1</th>\n",
              "      <th>retention_7</th>\n",
              "    </tr>\n",
              "  </thead>\n",
              "  <tbody>\n",
              "    <tr>\n",
              "      <th>0</th>\n",
              "      <td>116</td>\n",
              "      <td>gate_30</td>\n",
              "      <td>3</td>\n",
              "      <td>False</td>\n",
              "      <td>False</td>\n",
              "    </tr>\n",
              "    <tr>\n",
              "      <th>1</th>\n",
              "      <td>337</td>\n",
              "      <td>gate_30</td>\n",
              "      <td>38</td>\n",
              "      <td>True</td>\n",
              "      <td>False</td>\n",
              "    </tr>\n",
              "    <tr>\n",
              "      <th>2</th>\n",
              "      <td>377</td>\n",
              "      <td>gate_40</td>\n",
              "      <td>165</td>\n",
              "      <td>True</td>\n",
              "      <td>False</td>\n",
              "    </tr>\n",
              "    <tr>\n",
              "      <th>3</th>\n",
              "      <td>483</td>\n",
              "      <td>gate_40</td>\n",
              "      <td>1</td>\n",
              "      <td>False</td>\n",
              "      <td>False</td>\n",
              "    </tr>\n",
              "    <tr>\n",
              "      <th>4</th>\n",
              "      <td>488</td>\n",
              "      <td>gate_40</td>\n",
              "      <td>179</td>\n",
              "      <td>True</td>\n",
              "      <td>True</td>\n",
              "    </tr>\n",
              "  </tbody>\n",
              "</table>\n",
              "</div>\n",
              "      <button class=\"colab-df-convert\" onclick=\"convertToInteractive('df-8545270c-a4ba-46a6-bf7a-0c9770eca942')\"\n",
              "              title=\"Convert this dataframe to an interactive table.\"\n",
              "              style=\"display:none;\">\n",
              "        \n",
              "  <svg xmlns=\"http://www.w3.org/2000/svg\" height=\"24px\"viewBox=\"0 0 24 24\"\n",
              "       width=\"24px\">\n",
              "    <path d=\"M0 0h24v24H0V0z\" fill=\"none\"/>\n",
              "    <path d=\"M18.56 5.44l.94 2.06.94-2.06 2.06-.94-2.06-.94-.94-2.06-.94 2.06-2.06.94zm-11 1L8.5 8.5l.94-2.06 2.06-.94-2.06-.94L8.5 2.5l-.94 2.06-2.06.94zm10 10l.94 2.06.94-2.06 2.06-.94-2.06-.94-.94-2.06-.94 2.06-2.06.94z\"/><path d=\"M17.41 7.96l-1.37-1.37c-.4-.4-.92-.59-1.43-.59-.52 0-1.04.2-1.43.59L10.3 9.45l-7.72 7.72c-.78.78-.78 2.05 0 2.83L4 21.41c.39.39.9.59 1.41.59.51 0 1.02-.2 1.41-.59l7.78-7.78 2.81-2.81c.8-.78.8-2.07 0-2.86zM5.41 20L4 18.59l7.72-7.72 1.47 1.35L5.41 20z\"/>\n",
              "  </svg>\n",
              "      </button>\n",
              "      \n",
              "  <style>\n",
              "    .colab-df-container {\n",
              "      display:flex;\n",
              "      flex-wrap:wrap;\n",
              "      gap: 12px;\n",
              "    }\n",
              "\n",
              "    .colab-df-convert {\n",
              "      background-color: #E8F0FE;\n",
              "      border: none;\n",
              "      border-radius: 50%;\n",
              "      cursor: pointer;\n",
              "      display: none;\n",
              "      fill: #1967D2;\n",
              "      height: 32px;\n",
              "      padding: 0 0 0 0;\n",
              "      width: 32px;\n",
              "    }\n",
              "\n",
              "    .colab-df-convert:hover {\n",
              "      background-color: #E2EBFA;\n",
              "      box-shadow: 0px 1px 2px rgba(60, 64, 67, 0.3), 0px 1px 3px 1px rgba(60, 64, 67, 0.15);\n",
              "      fill: #174EA6;\n",
              "    }\n",
              "\n",
              "    [theme=dark] .colab-df-convert {\n",
              "      background-color: #3B4455;\n",
              "      fill: #D2E3FC;\n",
              "    }\n",
              "\n",
              "    [theme=dark] .colab-df-convert:hover {\n",
              "      background-color: #434B5C;\n",
              "      box-shadow: 0px 1px 3px 1px rgba(0, 0, 0, 0.15);\n",
              "      filter: drop-shadow(0px 1px 2px rgba(0, 0, 0, 0.3));\n",
              "      fill: #FFFFFF;\n",
              "    }\n",
              "  </style>\n",
              "\n",
              "      <script>\n",
              "        const buttonEl =\n",
              "          document.querySelector('#df-8545270c-a4ba-46a6-bf7a-0c9770eca942 button.colab-df-convert');\n",
              "        buttonEl.style.display =\n",
              "          google.colab.kernel.accessAllowed ? 'block' : 'none';\n",
              "\n",
              "        async function convertToInteractive(key) {\n",
              "          const element = document.querySelector('#df-8545270c-a4ba-46a6-bf7a-0c9770eca942');\n",
              "          const dataTable =\n",
              "            await google.colab.kernel.invokeFunction('convertToInteractive',\n",
              "                                                     [key], {});\n",
              "          if (!dataTable) return;\n",
              "\n",
              "          const docLinkHtml = 'Like what you see? Visit the ' +\n",
              "            '<a target=\"_blank\" href=https://colab.research.google.com/notebooks/data_table.ipynb>data table notebook</a>'\n",
              "            + ' to learn more about interactive tables.';\n",
              "          element.innerHTML = '';\n",
              "          dataTable['output_type'] = 'display_data';\n",
              "          await google.colab.output.renderOutput(dataTable, element);\n",
              "          const docLink = document.createElement('div');\n",
              "          docLink.innerHTML = docLinkHtml;\n",
              "          element.appendChild(docLink);\n",
              "        }\n",
              "      </script>\n",
              "    </div>\n",
              "  </div>\n",
              "  "
            ]
          },
          "metadata": {},
          "execution_count": 3
        }
      ]
    },
    {
      "cell_type": "markdown",
      "source": [
        "First, we will take a look at the retention rates between both versions. "
      ],
      "metadata": {
        "id": "6_Q1kpuYZlU0"
      }
    },
    {
      "cell_type": "code",
      "source": [
        "#print(data['id'].loc[data.index[0]])\n",
        "version30_r1=[]\n",
        "for i in range(90188):\n",
        "  if data['retention_1'].loc[data.index[i]]== True and data[\"version\"].loc[data.index[i]]==\"gate_30\": #this will gather all the players in version 30 who came back after a day\n",
        "    version30_r1.append(1)\n",
        "  if data['retention_1'].loc[data.index[i]]== False and data[\"version\"].loc[data.index[i]]==\"gate_30\": #this will gather all the players in version 30 who decided never to come back\n",
        "    version30_r1.append(0)\n"
      ],
      "metadata": {
        "id": "WjEv7cF3ZE63",
        "outputId": "480054f1-6132-4a35-ed83-115cbeed25a2",
        "colab": {
          "base_uri": "https://localhost:8080/"
        }
      },
      "execution_count": 21,
      "outputs": [
        {
          "output_type": "stream",
          "name": "stdout",
          "text": [
            "44700\n"
          ]
        }
      ]
    },
    {
      "cell_type": "markdown",
      "source": [
        "Great! So now we have a list with all the players from version 30 who came back after a day. Lets go ahead and make the same type of list for version 40.\n"
      ],
      "metadata": {
        "id": "J3xGgGf3dOfr"
      }
    },
    {
      "cell_type": "code",
      "source": [
        "version40_r1=[]\n",
        "for i in range(90188):\n",
        "  if data['retention_1'].loc[data.index[i]]== True and data[\"version\"].loc[data.index[i]]==\"gate_40\": #this will gather all the players in version 40 who came back after a day\n",
        "    version40_r1.append(1)\n",
        "  if data['retention_1'].loc[data.index[i]]== False and data[\"version\"].loc[data.index[i]]==\"gate_40\": #this will gather all the players in version 40 who decided never to come back\n",
        "    version40_r1.append(0)"
      ],
      "metadata": {
        "id": "_Mhlbu9wdVyc"
      },
      "execution_count": 5,
      "outputs": []
    },
    {
      "cell_type": "markdown",
      "source": [
        "Beautiful, simply beautiful! Now lets go ahead and do the same for players who came back after 7 days!"
      ],
      "metadata": {
        "id": "0Tvgq7NUd2FV"
      }
    },
    {
      "cell_type": "code",
      "source": [
        "version30_r7=[]\n",
        "for i in range(90188):\n",
        "  if data['retention_7'].loc[data.index[i]]== True and data[\"version\"].loc[data.index[i]]==\"gate_30\": \n",
        "    version30_r7.append(1)\n",
        "  if data['retention_7'].loc[data.index[i]]== False and data[\"version\"].loc[data.index[i]]==\"gate_30\": \n",
        "    version30_r7.append(0)"
      ],
      "metadata": {
        "id": "zTz-iiB2d0ll"
      },
      "execution_count": 6,
      "outputs": []
    },
    {
      "cell_type": "markdown",
      "source": [
        "And for version 40"
      ],
      "metadata": {
        "id": "knI0mCQYeJ3n"
      }
    },
    {
      "cell_type": "code",
      "source": [
        "version40_r7=[]\n",
        "for i in range(90188):\n",
        "  if data['retention_7'].loc[data.index[i]]== True and data[\"version\"].loc[data.index[i]]==\"gate_40\": #this will gather all the players in version 30 who came back after a day\n",
        "    version40_r7.append(1)\n",
        "  if data['retention_7'].loc[data.index[i]]== False and data[\"version\"].loc[data.index[i]]==\"gate_40\": #this will gather all the players in version 30 who decided never to come back\n",
        "    version40_r7.append(0)"
      ],
      "metadata": {
        "id": "pMtfS_yUeLxn"
      },
      "execution_count": 8,
      "outputs": []
    },
    {
      "cell_type": "markdown",
      "source": [
        "Now for the good part! Lets look at some graphs! To start things off, lets  compare the number of players who came back in version 30 after 1 day."
      ],
      "metadata": {
        "id": "tVi9bX9veY8h"
      }
    },
    {
      "cell_type": "code",
      "source": [
        "\n",
        "plt.hist(version30_r1, bins=10)\n",
        "plt.style.use('ggplot')\n",
        "plt.show()"
      ],
      "metadata": {
        "colab": {
          "base_uri": "https://localhost:8080/",
          "height": 265
        },
        "id": "H-D32coVesKy",
        "outputId": "bca6181d-5235-41b7-e2b4-64924f240e9f"
      },
      "execution_count": 23,
      "outputs": [
        {
          "output_type": "display_data",
          "data": {
            "text/plain": [
              "<Figure size 432x288 with 1 Axes>"
            ],
            "image/png": "[encoded data removed]"
          },
          "metadata": {}
        }
      ]
    },
    {
      "cell_type": "code",
      "source": [
        "def percentage(part, whole):\n",
        "  return 100 * float(part)/float(whole)"
      ],
      "metadata": {
        "id": "8_gQK0hMkctm"
      },
      "execution_count": 25,
      "outputs": []
    },
    {
      "cell_type": "markdown",
      "source": [
        "Hmmm seems like only about half of the players came back. Lets look at the raw numbers shall we?"
      ],
      "metadata": {
        "id": "SHkvTKASgY5G"
      }
    },
    {
      "cell_type": "code",
      "source": [
        "v30yes1=0\n",
        "v30no1=0\n",
        "for i in version30_r1:\n",
        "  if i==1:\n",
        "    v30yes1+=1\n",
        "  elif i==0:\n",
        "    v30no1+=1\n",
        "print(str(v30yes1) + \" players came back the next day, while \"+str(v30no1)+\" never came back :(\")\n",
        "print(\"the percentage of players who came back is \"+ str(percentage(v30yes1,len(version30_r1)))+\"%\")\n"
      ],
      "metadata": {
        "colab": {
          "base_uri": "https://localhost:8080/"
        },
        "id": "rMjP20n0gfpU",
        "outputId": "6b077bcb-c167-4517-a24b-d9b515abf36b"
      },
      "execution_count": 30,
      "outputs": [
        {
          "output_type": "stream",
          "name": "stdout",
          "text": [
            "20034 players came back the next day, while 24666 never came back :(\n",
            "the percentage of players who came back is 44.81879194630873%\n"
          ]
        }
      ]
    },
    {
      "cell_type": "markdown",
      "source": [
        "It seems that for version 30, only around 45% of the players came back after a day! Lets take a look at version 40 then shall we?"
      ],
      "metadata": {
        "id": "7opiF_Xdhw_V"
      }
    },
    {
      "cell_type": "code",
      "source": [
        "plt.hist(version40_r1, bins=10)\n",
        "plt.style.use('ggplot')\n",
        "plt.show()"
      ],
      "metadata": {
        "colab": {
          "base_uri": "https://localhost:8080/",
          "height": 265
        },
        "id": "Pjh3H6pUiF7W",
        "outputId": "94fb44c4-c589-4c2a-975e-dc692816acaa"
      },
      "execution_count": 20,
      "outputs": [
        {
          "output_type": "display_data",
          "data": {
            "text/plain": [
              "<Figure size 432x288 with 1 Axes>"
            ],
            "image/png": "[encoded data removed]"
          },
          "metadata": {}
        }
      ]
    },
    {
      "cell_type": "code",
      "source": [
        "v40yes1=0\n",
        "v40no1=0\n",
        "for i in version40_r1:\n",
        "  if i==1:\n",
        "    v40yes1+=1\n",
        "  else:\n",
        "    v40no1+=1\n",
        "print(str(v40yes1) + \" players came back the next day, while \"+str(v40no1)+\" never came back :(\")\n",
        "print(\"the percentage of players who came back is \"+ str(percentage(v40yes1,len(version40_r1)))+\"%\")"
      ],
      "metadata": {
        "colab": {
          "base_uri": "https://localhost:8080/"
        },
        "id": "TQGq_gzZh3fM",
        "outputId": "82376d53-5a65-45fa-ff44-7859072a3d58"
      },
      "execution_count": 31,
      "outputs": [
        {
          "output_type": "stream",
          "name": "stdout",
          "text": [
            "20119 players came back the next day, while 25369 never came back :(\n",
            "the percentage of players who came back is 44.22924727400633%\n"
          ]
        }
      ]
    },
    {
      "cell_type": "markdown",
      "source": [
        "Well it seems like the numbers for players returning to version 30 and 40 after a day is pretty much the same! So lets go ahead and take a look at the numbers after 7 days, im sure this time we will find something very interesting!"
      ],
      "metadata": {
        "id": "c4EfmihxiNBm"
      }
    },
    {
      "cell_type": "code",
      "source": [
        "plt.hist(version30_r7, bins=10)\n",
        "plt.style.use('ggplot')\n",
        "plt.show()\n",
        "plt.hist(version40_r7, bins=10)\n",
        "plt.style.use('ggplot')\n",
        "plt.show()"
      ],
      "metadata": {
        "colab": {
          "base_uri": "https://localhost:8080/",
          "height": 513
        },
        "id": "9qQw5aMdlU1E",
        "outputId": "0bdc216d-0b46-4cd6-fd0d-0ed15dd0e78d"
      },
      "execution_count": 32,
      "outputs": [
        {
          "output_type": "display_data",
          "data": {
            "text/plain": [
              "<Figure size 432x288 with 1 Axes>"
            ],
            "image/png": "[encoded data removed]"
          },
          "metadata": {}
        },
        {
          "output_type": "display_data",
          "data": {
            "text/plain": [
              "<Figure size 432x288 with 1 Axes>"
            ],
            "image/png": "[encoded data removed]"
          },
          "metadata": {}
        }
      ]
    },
    {
      "cell_type": "markdown",
      "source": [
        "Well its hard to tell exact numbers with these plots, so lets look at hard numbers again."
      ],
      "metadata": {
        "id": "yXXqJIJ3ic_z"
      }
    },
    {
      "cell_type": "code",
      "source": [
        "v30yes7=0\n",
        "v30no7=0\n",
        "for i in version30_r7:\n",
        "  if i==1:\n",
        "    v30yes7+=1\n",
        "  else:\n",
        "    v30no7+=1\n",
        "print(str(v30yes7) + \" players came back the next day, while \"+str(v30no7)+\" never came back :(\")\n",
        "print(\"the percentage of players who came back is \"+ str(percentage(v30yes7,len(version30_r7)))+\"%\")"
      ],
      "metadata": {
        "colab": {
          "base_uri": "https://localhost:8080/"
        },
        "id": "tyXbj_wjl1nv",
        "outputId": "19dfe48b-e937-499e-9917-2678ebcbd085"
      },
      "execution_count": 34,
      "outputs": [
        {
          "output_type": "stream",
          "name": "stdout",
          "text": [
            "8502 players came back the next day, while 36198 never came back :(\n",
            "the percentage of players who came back is 19.02013422818792%\n"
          ]
        }
      ]
    },
    {
      "cell_type": "code",
      "source": [
        "v40yes7=0\n",
        "v40no7=0\n",
        "for i in version40_r7:\n",
        "  if i==1:\n",
        "    v40yes7+=1\n",
        "  else:\n",
        "    v40no7+=1\n",
        "print(str(v40yes7) + \" players came back the next day, while \"+str(v40no7)+\" never came back :(\")\n",
        "print(\"the percentage of players who came back is \"+ str(percentage(v40yes7,len(version40_r7)))+\"%\")"
      ],
      "metadata": {
        "colab": {
          "base_uri": "https://localhost:8080/"
        },
        "id": "qV_m5Aeblox0",
        "outputId": "925b1a69-3769-47d0-b325-5ec2f44b80df"
      },
      "execution_count": 33,
      "outputs": [
        {
          "output_type": "stream",
          "name": "stdout",
          "text": [
            "8279 players came back the next day, while 37209 never came back :(\n",
            "the percentage of players who came back is 18.200404502286318%\n"
          ]
        }
      ]
    },
    {
      "cell_type": "markdown",
      "source": [
        "Well this is a rather dissapointing outcome. It appears that the version difference lowered the percentage of returning players by .82%, which equals to 223 players. Lets have a better look at the numbers."
      ],
      "metadata": {
        "id": "5hSFwkXZmUZg"
      }
    },
    {
      "cell_type": "code",
      "source": [
        "data.groupby('version')['retention_7'].sum()"
      ],
      "metadata": {
        "colab": {
          "base_uri": "https://localhost:8080/"
        },
        "id": "6iRaxY2fm0jH",
        "outputId": "890f1c21-5602-475f-86c1-47cd2495ed95"
      },
      "execution_count": 36,
      "outputs": [
        {
          "output_type": "execute_result",
          "data": {
            "text/plain": [
              "version\n",
              "gate_30    8502\n",
              "gate_40    8279\n",
              "Name: retention_7, dtype: int64"
            ]
          },
          "metadata": {},
          "execution_count": 36
        }
      ]
    },
    {
      "cell_type": "markdown",
      "source": [
        "But we aren´t done yet! We have one more thing to look at. Did the version difference influence the amount of rounds played by each player? Lets take a look!"
      ],
      "metadata": {
        "id": "Q7-l0y9Dm-oe"
      }
    },
    {
      "cell_type": "code",
      "source": [
        "data.groupby('version')['sum_gamerounds'].sum()"
      ],
      "metadata": {
        "colab": {
          "base_uri": "https://localhost:8080/"
        },
        "id": "4UE-alwBp8ja",
        "outputId": "6f30f2ac-0d47-4416-a124-76d83a143b37"
      },
      "execution_count": 37,
      "outputs": [
        {
          "output_type": "execute_result",
          "data": {
            "text/plain": [
              "version\n",
              "gate_30    2344795\n",
              "gate_40    2333530\n",
              "Name: sum_gamerounds, dtype: int64"
            ]
          },
          "metadata": {},
          "execution_count": 37
        }
      ]
    },
    {
      "cell_type": "markdown",
      "source": [
        "So it seems like version 30 players played 11,265 games more than version 40.\n",
        "Lets summarize everything we learned and make it look nice and tidy!"
      ],
      "metadata": {
        "id": "uqF0OlFtqM60"
      }
    },
    {
      "cell_type": "code",
      "source": [
        "df_retention_ab = data.groupby(\"version\").agg({\"userid\":\"count\", \"retention_1\":\"mean\",\"retention_7\":\"mean\", \"sum_gamerounds\":\"sum\"})\n",
        "df_retention_ab"
      ],
      "metadata": {
        "colab": {
          "base_uri": "https://localhost:8080/",
          "height": 143
        },
        "id": "FQW9jIgh30no",
        "outputId": "e59e3d3d-a8fe-4786-d9d8-2f20d2d48756"
      },
      "execution_count": 40,
      "outputs": [
        {
          "output_type": "execute_result",
          "data": {
            "text/plain": [
              "         userid  retention_1  retention_7  sum_gamerounds\n",
              "version                                                  \n",
              "gate_30   44700     0.448188     0.190201         2344795\n",
              "gate_40   45489     0.442283     0.182000         2333530"
            ],
            "text/html": [
              "\n",
              "  <div id=\"df-4ab14f61-390b-4cbf-88f8-f4bd6ab6c2c9\">\n",
              "    <div class=\"colab-df-container\">\n",
              "      <div>\n",
              "<style scoped>\n",
              "    .dataframe tbody tr th:only-of-type {\n",
              "        vertical-align: middle;\n",
              "    }\n",
              "\n",
              "    .dataframe tbody tr th {\n",
              "        vertical-align: top;\n",
              "    }\n",
              "\n",
              "    .dataframe thead th {\n",
              "        text-align: right;\n",
              "    }\n",
              "</style>\n",
              "<table border=\"1\" class=\"dataframe\">\n",
              "  <thead>\n",
              "    <tr style=\"text-align: right;\">\n",
              "      <th></th>\n",
              "      <th>userid</th>\n",
              "      <th>retention_1</th>\n",
              "      <th>retention_7</th>\n",
              "      <th>sum_gamerounds</th>\n",
              "    </tr>\n",
              "    <tr>\n",
              "      <th>version</th>\n",
              "      <th></th>\n",
              "      <th></th>\n",
              "      <th></th>\n",
              "      <th></th>\n",
              "    </tr>\n",
              "  </thead>\n",
              "  <tbody>\n",
              "    <tr>\n",
              "      <th>gate_30</th>\n",
              "      <td>44700</td>\n",
              "      <td>0.448188</td>\n",
              "      <td>0.190201</td>\n",
              "      <td>2344795</td>\n",
              "    </tr>\n",
              "    <tr>\n",
              "      <th>gate_40</th>\n",
              "      <td>45489</td>\n",
              "      <td>0.442283</td>\n",
              "      <td>0.182000</td>\n",
              "      <td>2333530</td>\n",
              "    </tr>\n",
              "  </tbody>\n",
              "</table>\n",
              "</div>\n",
              "      <button class=\"colab-df-convert\" onclick=\"convertToInteractive('df-4ab14f61-390b-4cbf-88f8-f4bd6ab6c2c9')\"\n",
              "              title=\"Convert this dataframe to an interactive table.\"\n",
              "              style=\"display:none;\">\n",
              "        \n",
              "  <svg xmlns=\"http://www.w3.org/2000/svg\" height=\"24px\"viewBox=\"0 0 24 24\"\n",
              "       width=\"24px\">\n",
              "    <path d=\"M0 0h24v24H0V0z\" fill=\"none\"/>\n",
              "    <path d=\"M18.56 5.44l.94 2.06.94-2.06 2.06-.94-2.06-.94-.94-2.06-.94 2.06-2.06.94zm-11 1L8.5 8.5l.94-2.06 2.06-.94-2.06-.94L8.5 2.5l-.94 2.06-2.06.94zm10 10l.94 2.06.94-2.06 2.06-.94-2.06-.94-.94-2.06-.94 2.06-2.06.94z\"/><path d=\"M17.41 7.96l-1.37-1.37c-.4-.4-.92-.59-1.43-.59-.52 0-1.04.2-1.43.59L10.3 9.45l-7.72 7.72c-.78.78-.78 2.05 0 2.83L4 21.41c.39.39.9.59 1.41.59.51 0 1.02-.2 1.41-.59l7.78-7.78 2.81-2.81c.8-.78.8-2.07 0-2.86zM5.41 20L4 18.59l7.72-7.72 1.47 1.35L5.41 20z\"/>\n",
              "  </svg>\n",
              "      </button>\n",
              "      \n",
              "  <style>\n",
              "    .colab-df-container {\n",
              "      display:flex;\n",
              "      flex-wrap:wrap;\n",
              "      gap: 12px;\n",
              "    }\n",
              "\n",
              "    .colab-df-convert {\n",
              "      background-color: #E8F0FE;\n",
              "      border: none;\n",
              "      border-radius: 50%;\n",
              "      cursor: pointer;\n",
              "      display: none;\n",
              "      fill: #1967D2;\n",
              "      height: 32px;\n",
              "      padding: 0 0 0 0;\n",
              "      width: 32px;\n",
              "    }\n",
              "\n",
              "    .colab-df-convert:hover {\n",
              "      background-color: #E2EBFA;\n",
              "      box-shadow: 0px 1px 2px rgba(60, 64, 67, 0.3), 0px 1px 3px 1px rgba(60, 64, 67, 0.15);\n",
              "      fill: #174EA6;\n",
              "    }\n",
              "\n",
              "    [theme=dark] .colab-df-convert {\n",
              "      background-color: #3B4455;\n",
              "      fill: #D2E3FC;\n",
              "    }\n",
              "\n",
              "    [theme=dark] .colab-df-convert:hover {\n",
              "      background-color: #434B5C;\n",
              "      box-shadow: 0px 1px 3px 1px rgba(0, 0, 0, 0.15);\n",
              "      filter: drop-shadow(0px 1px 2px rgba(0, 0, 0, 0.3));\n",
              "      fill: #FFFFFF;\n",
              "    }\n",
              "  </style>\n",
              "\n",
              "      <script>\n",
              "        const buttonEl =\n",
              "          document.querySelector('#df-4ab14f61-390b-4cbf-88f8-f4bd6ab6c2c9 button.colab-df-convert');\n",
              "        buttonEl.style.display =\n",
              "          google.colab.kernel.accessAllowed ? 'block' : 'none';\n",
              "\n",
              "        async function convertToInteractive(key) {\n",
              "          const element = document.querySelector('#df-4ab14f61-390b-4cbf-88f8-f4bd6ab6c2c9');\n",
              "          const dataTable =\n",
              "            await google.colab.kernel.invokeFunction('convertToInteractive',\n",
              "                                                     [key], {});\n",
              "          if (!dataTable) return;\n",
              "\n",
              "          const docLinkHtml = 'Like what you see? Visit the ' +\n",
              "            '<a target=\"_blank\" href=https://colab.research.google.com/notebooks/data_table.ipynb>data table notebook</a>'\n",
              "            + ' to learn more about interactive tables.';\n",
              "          element.innerHTML = '';\n",
              "          dataTable['output_type'] = 'display_data';\n",
              "          await google.colab.output.renderOutput(dataTable, element);\n",
              "          const docLink = document.createElement('div');\n",
              "          docLink.innerHTML = docLinkHtml;\n",
              "          element.appendChild(docLink);\n",
              "        }\n",
              "      </script>\n",
              "    </div>\n",
              "  </div>\n",
              "  "
            ]
          },
          "metadata": {},
          "execution_count": 40
        }
      ]
    },
    {
      "cell_type": "code",
      "source": [],
      "metadata": {
        "colab": {
          "base_uri": "https://localhost:8080/",
          "height": 354
        },
        "id": "Syyh5Zvr3RNo",
        "outputId": "4cfcf23d-a290-4b7d-ab60-66b1ebd2a93f"
      },
      "execution_count": 41,
      "outputs": [
        {
          "output_type": "display_data",
          "data": {
            "text/plain": [
              "<Figure size 936x360 with 2 Axes>"
            ],
            "image/png": "[encoded data removed]"
          },
          "metadata": {}
        }
      ]
    },
    {
      "cell_type": "markdown",
      "source": [
        "## **Task 2 *(2.5 points)*** - Maximum Likelihood Estimation"
      ],
      "metadata": {
        "id": "ncx6EaqlOsSS"
      }
    },
    {
      "cell_type": "markdown",
      "source": [
        "In class, we've discussed the Method of Maximum Likelihood, a widely-used technique for parameter estimation from data. We have also derived MLE for the parameters of standard discrete and continuous distribution."
      ],
      "metadata": {
        "id": "PeJ_UGejRgpc"
      }
    },
    {
      "cell_type": "markdown",
      "source": [
        "Can you assume that one of the variables present in your dataset follows some known distribution? \n",
        "\n",
        "Formulate the assumption and obtain the maximul likelihood estimate for the parameter(s) of the distribution."
      ],
      "metadata": {
        "id": "IHRNJXG6SAZ5"
      }
    },
    {
      "cell_type": "code",
      "source": [
        "import dataclasses\n",
        "boot_1d = []\n",
        "boot_7d = []\n",
        "for i in range(500):\n",
        "    boot_mean_1 = data.sample(frac=1, replace=True).groupby('version')['retention_1'].mean()\n",
        "    boot_mean_7 = data.sample(frac=1, replace=True).groupby('version')['retention_7'].mean()\n",
        "    boot_1d.append(boot_mean_1)\n",
        "    boot_7d.append(boot_mean_7)\n",
        "    \n",
        "# Transforming the list to a DataFrame\n",
        "boot_1d = pd.DataFrame(boot_1d)\n",
        "boot_7d = pd.DataFrame(boot_7d)\n",
        "\n",
        "\n",
        "fig, (ax1,ax2) = plt.subplots(1, 2, sharey=True, figsize=(13,5))\n",
        "\n",
        "boot_1d.plot.kde(ax=ax1)\n",
        "ax1.set_xlabel(\"retantion rate\",size=12)\n",
        "ax1.set_ylabel(\"number of sample\",size=12)\n",
        "ax1.set_title(\"1 day retention rate distribution\", fontweight=\"bold\",size=14)\n",
        "\n",
        "boot_7d.plot.kde(ax=ax2)\n",
        "ax2.set_xlabel(\"retantion rate\",size=12)\n",
        "ax2.set_title(\"7 days retention rate distribution\", fontweight=\"bold\",size=14)\n",
        "plt.show()"
      ],
      "metadata": {
        "id": "pFwurjFEOotf",
        "colab": {
          "base_uri": "https://localhost:8080/",
          "height": 354
        },
        "outputId": "05f91301-1ab0-43a0-d846-ebc63cc0d33b"
      },
      "execution_count": 42,
      "outputs": [
        {
          "output_type": "display_data",
          "data": {
            "text/plain": [
              "<Figure size 936x360 with 2 Axes>"
            ],
            "image/png": "[encoded data removed]"
          },
          "metadata": {}
        }
      ]
    },
    {
      "cell_type": "markdown",
      "source": [
        "## **Task 3 *(2.5 points)*** - Confidence intervals\n",
        "\n",
        "In the previoud task, you have obtain a point estimate of the true value of some parameter. Now, construct a confidence interval.\n",
        "\n",
        "Clearly state your assumptions, the interval you obtain and how you can interpret it."
      ],
      "metadata": {
        "id": "6Li8vccFOwt4"
      }
    },
    {
      "cell_type": "code",
      "source": [
        "# TODO your code here"
      ],
      "metadata": {
        "id": "dGCEWXCYRXVb"
      },
      "execution_count": null,
      "outputs": []
    },
    {
      "cell_type": "markdown",
      "source": [
        "## **Task 4 *(5 points)*** - Hypothesis testing\n",
        "\n",
        "Formulate 1-2 (if done in a couple: 3-4) hypotheses and test it Based on the available data. \n",
        "\n",
        "For every hypothesis, clearly state:\n",
        "1. the hypothesis that is being tested in plain English  \n",
        "2. $H_0$ and $H_1$\n",
        "3. which statistical test you've chosen\n",
        "4. why is the test applicable (what are the assumptions of the test? are they satisfied?)\n",
        "5. how do you interpret the outcome of the test\n",
        "\n",
        "\n",
        "\n"
      ],
      "metadata": {
        "id": "IRNwluRAOzJN"
      }
    },
    {
      "cell_type": "code",
      "source": [
        "# TODO your code here"
      ],
      "metadata": {
        "id": "H-AefpRXO3Jz"
      },
      "execution_count": null,
      "outputs": []
    }
  ]
}