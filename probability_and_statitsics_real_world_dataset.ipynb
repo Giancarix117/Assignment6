{
  "nbformat": 4,
  "nbformat_minor": 0,
  "metadata": {
    "colab": {
      "provenance": [],
      "include_colab_link": true
    },
    "kernelspec": {
      "name": "python3",
      "display_name": "Python 3"
    },
    "language_info": {
      "name": "python"
    }
  },
  "cells": [
    {
      "cell_type": "markdown",
      "metadata": {
        "id": "view-in-github",
        "colab_type": "text"
      },
      "source": [
        "<a href=\"https://colab.research.google.com/github/Giancarix117/Assignment6/blob/main/probability_and_statitsics_real_world_dataset.ipynb\" target=\"_parent\"><img src=\"https://colab.research.google.com/assets/colab-badge.svg\" alt=\"Open In Colab\"/></a>"
      ]
    },
    {
      "cell_type": "markdown",
      "source": [
        "# **Probability & Statistics** - Graded Assignment\n",
        "*Submission deadline:  Sunday, January 29, 23:59 Barcelona time*\n",
        "\n",
        "You can ask me for feedback / advice up till January 27, 16:59 Barcelona time."
      ],
      "metadata": {
        "id": "Mz_SPeEWwB3Q"
      }
    },
    {
      "cell_type": "code",
      "execution_count": null,
      "metadata": {
        "id": "BkkoiwstOagR"
      },
      "outputs": [],
      "source": [
        "import numpy as np\n",
        "import pandas as pd\n",
        "\n",
        "import matplotlib.pyplot as plt\n",
        "import seaborn as sns"
      ]
    },
    {
      "cell_type": "code",
      "source": [
        "# TODO read the dataset\n",
        "# data = pd.read_csv()"
      ],
      "metadata": {
        "id": "IBhX3rm5ROKn"
      },
      "execution_count": null,
      "outputs": []
    },
    {
      "cell_type": "markdown",
      "source": [
        "## **Task 1 *(5 points)*** - Exploratory data analysis\n",
        "\n",
        "In this section, you will get to know the data you are working with.\n",
        "\n",
        "First, describe the dataset in a couple of sentences. Mention what it's about, which information is available in it, etc."
      ],
      "metadata": {
        "id": "0ae9Mk7dOp7-"
      }
    },
    {
      "cell_type": "markdown",
      "source": [
        "TODO your text here"
      ],
      "metadata": {
        "id": "N7uBvfnFPzkf"
      }
    },
    {
      "cell_type": "markdown",
      "source": [
        "Now, highlight at least three interesting things one can learn from the dataset. Make some plots, summary tables, etc., and always include an explanation of what you see in plain English. Make it a short data story that is interesting to read!\n",
        "\n",
        "You can use our *Titanic* and *Mammals* notebooks as an inspiration."
      ],
      "metadata": {
        "id": "0luwejcBP1uU"
      }
    },
    {
      "cell_type": "code",
      "source": [
        "# TODO your code here"
      ],
      "metadata": {
        "id": "Hj56Km7nQvjD"
      },
      "execution_count": null,
      "outputs": []
    },
    {
      "cell_type": "markdown",
      "source": [
        "## **Task 2 *(2.5 points)*** - Maximum Likelihood Estimation"
      ],
      "metadata": {
        "id": "ncx6EaqlOsSS"
      }
    },
    {
      "cell_type": "markdown",
      "source": [
        "In class, we've discussed the Method of Maximum Likelihood, a widely-used technique for parameter estimation from data. We have also derived MLE for the parameters of standard discrete and continuous distribution."
      ],
      "metadata": {
        "id": "PeJ_UGejRgpc"
      }
    },
    {
      "cell_type": "markdown",
      "source": [
        "Can you assume that one of the variables present in your dataset follows some known distribution? \n",
        "\n",
        "Formulate the assumption and obtain the maximul likelihood estimate for the parameter(s) of the distribution."
      ],
      "metadata": {
        "id": "IHRNJXG6SAZ5"
      }
    },
    {
      "cell_type": "code",
      "source": [
        "# TODO your code here"
      ],
      "metadata": {
        "id": "pFwurjFEOotf"
      },
      "execution_count": null,
      "outputs": []
    },
    {
      "cell_type": "markdown",
      "source": [
        "## **Task 3 *(2.5 points)*** - Confidence intervals\n",
        "\n",
        "In the previoud task, you have obtain a point estimate of the true value of some parameter. Now, construct a confidence interval.\n",
        "\n",
        "Clearly state your assumptions, the interval you obtain and how you can interpret it."
      ],
      "metadata": {
        "id": "6Li8vccFOwt4"
      }
    },
    {
      "cell_type": "code",
      "source": [
        "# TODO your code here"
      ],
      "metadata": {
        "id": "dGCEWXCYRXVb"
      },
      "execution_count": null,
      "outputs": []
    },
    {
      "cell_type": "markdown",
      "source": [
        "## **Task 4 *(5 points)*** - Hypothesis testing\n",
        "\n",
        "Formulate 1-2 (if done in a couple: 3-4) hypotheses and test it Based on the available data. \n",
        "\n",
        "For every hypothesis, clearly state:\n",
        "1. the hypothesis that is being tested in plain English  \n",
        "2. $H_0$ and $H_1$\n",
        "3. which statistical test you've chosen\n",
        "4. why is the test applicable (what are the assumptions of the test? are they satisfied?)\n",
        "5. how do you interpret the outcome of the test\n",
        "\n",
        "\n",
        "\n"
      ],
      "metadata": {
        "id": "IRNwluRAOzJN"
      }
    },
    {
      "cell_type": "code",
      "source": [
        "# TODO your code here"
      ],
      "metadata": {
        "id": "H-AefpRXO3Jz"
      },
      "execution_count": null,
      "outputs": []
    }
  ]
}